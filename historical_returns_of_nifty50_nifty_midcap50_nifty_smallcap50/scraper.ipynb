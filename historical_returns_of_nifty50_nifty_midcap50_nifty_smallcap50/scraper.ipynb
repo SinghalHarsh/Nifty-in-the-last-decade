{
 "cells": [
  {
   "cell_type": "markdown",
   "metadata": {},
   "source": [
    "#### Importing packages"
   ]
  },
  {
   "cell_type": "code",
   "execution_count": 1,
   "metadata": {},
   "outputs": [],
   "source": [
    "import pandas as pd\n",
    "\n",
    "pd.set_option('display.max_rows', 500)\n",
    "pd.set_option('display.max_columns', 500)"
   ]
  },
  {
   "cell_type": "code",
   "execution_count": 2,
   "metadata": {},
   "outputs": [],
   "source": [
    "from scraper import *"
   ]
  },
  {
   "cell_type": "markdown",
   "metadata": {},
   "source": [
    "#### NSE Index Companies Details"
   ]
  },
  {
   "cell_type": "code",
   "execution_count": 3,
   "metadata": {},
   "outputs": [],
   "source": [
    "## https://www.nseindia.com/market-data/live-equity-market?symbol=NIFTY%20MIDCAP%2050\n",
    "\n",
    "index = \"NIFTY 50\"\n",
    "nifty50_stocks_details_pd = nse_index_stocks_list(index)"
   ]
  },
  {
   "cell_type": "code",
   "execution_count": 4,
   "metadata": {},
   "outputs": [
    {
     "data": {
      "text/html": [
       "<div>\n",
       "<style scoped>\n",
       "    .dataframe tbody tr th:only-of-type {\n",
       "        vertical-align: middle;\n",
       "    }\n",
       "\n",
       "    .dataframe tbody tr th {\n",
       "        vertical-align: top;\n",
       "    }\n",
       "\n",
       "    .dataframe thead th {\n",
       "        text-align: right;\n",
       "    }\n",
       "</style>\n",
       "<table border=\"1\" class=\"dataframe\">\n",
       "  <thead>\n",
       "    <tr style=\"text-align: right;\">\n",
       "      <th></th>\n",
       "      <th>SYMBOL</th>\n",
       "      <th>OPEN</th>\n",
       "      <th>HIGH</th>\n",
       "      <th>LOW</th>\n",
       "      <th>PREV. CLOSE</th>\n",
       "      <th>LTP</th>\n",
       "      <th>CHNG</th>\n",
       "      <th>%CHNG</th>\n",
       "      <th>VOLUME (shares)</th>\n",
       "      <th>VALUE</th>\n",
       "      <th>52W H</th>\n",
       "      <th>52W L</th>\n",
       "      <th>365 D % CHNG  11-Sep-2019</th>\n",
       "      <th>30 D % CHNG  11-Aug-2020</th>\n",
       "    </tr>\n",
       "  </thead>\n",
       "  <tbody>\n",
       "    <tr>\n",
       "      <th>1</th>\n",
       "      <td>WIPRO</td>\n",
       "      <td>282.50</td>\n",
       "      <td>298.45</td>\n",
       "      <td>282.50</td>\n",
       "      <td>284.55</td>\n",
       "      <td>292.55</td>\n",
       "      <td>8.00</td>\n",
       "      <td>2.81</td>\n",
       "      <td>41937351</td>\n",
       "      <td>12,321,613,097.31</td>\n",
       "      <td>298.45</td>\n",
       "      <td>159.40</td>\n",
       "      <td>19.93</td>\n",
       "      <td>6.19</td>\n",
       "    </tr>\n",
       "    <tr>\n",
       "      <th>2</th>\n",
       "      <td>SBIN</td>\n",
       "      <td>198.55</td>\n",
       "      <td>203.85</td>\n",
       "      <td>197.00</td>\n",
       "      <td>198.15</td>\n",
       "      <td>203.70</td>\n",
       "      <td>5.55</td>\n",
       "      <td>2.80</td>\n",
       "      <td>48488142</td>\n",
       "      <td>9,692,294,704.38</td>\n",
       "      <td>351.00</td>\n",
       "      <td>149.45</td>\n",
       "      <td>-29.39</td>\n",
       "      <td>-0.30</td>\n",
       "    </tr>\n",
       "  </tbody>\n",
       "</table>\n",
       "</div>"
      ],
      "text/plain": [
       "  SYMBOL    OPEN    HIGH     LOW PREV. CLOSE     LTP  CHNG  %CHNG  \\\n",
       "1  WIPRO  282.50  298.45  282.50      284.55  292.55  8.00   2.81   \n",
       "2   SBIN  198.55  203.85  197.00      198.15  203.70  5.55   2.80   \n",
       "\n",
       "   VOLUME (shares)              VALUE   52W H   52W L  \\\n",
       "1         41937351  12,321,613,097.31  298.45  159.40   \n",
       "2         48488142   9,692,294,704.38  351.00  149.45   \n",
       "\n",
       "   365 D % CHNG  11-Sep-2019  30 D % CHNG  11-Aug-2020  \n",
       "1                      19.93                      6.19  \n",
       "2                     -29.39                     -0.30  "
      ]
     },
     "execution_count": 4,
     "metadata": {},
     "output_type": "execute_result"
    }
   ],
   "source": [
    "nifty50_stocks_details_pd.head(2)"
   ]
  },
  {
   "cell_type": "markdown",
   "metadata": {},
   "source": [
    "#### Yahoo Finance Scraper"
   ]
  },
  {
   "cell_type": "markdown",
   "metadata": {},
   "source": [
    "![](example.png)"
   ]
  },
  {
   "cell_type": "code",
   "execution_count": 7,
   "metadata": {},
   "outputs": [],
   "source": [
    "wipro_pd = yahoo_finance_scraper(\"WIPRO.NS\")"
   ]
  },
  {
   "cell_type": "code",
   "execution_count": 8,
   "metadata": {},
   "outputs": [
    {
     "data": {
      "text/html": [
       "<div>\n",
       "<style scoped>\n",
       "    .dataframe tbody tr th:only-of-type {\n",
       "        vertical-align: middle;\n",
       "    }\n",
       "\n",
       "    .dataframe tbody tr th {\n",
       "        vertical-align: top;\n",
       "    }\n",
       "\n",
       "    .dataframe thead th {\n",
       "        text-align: right;\n",
       "    }\n",
       "</style>\n",
       "<table border=\"1\" class=\"dataframe\">\n",
       "  <thead>\n",
       "    <tr style=\"text-align: right;\">\n",
       "      <th></th>\n",
       "      <th>date</th>\n",
       "      <th>open</th>\n",
       "      <th>high</th>\n",
       "      <th>low</th>\n",
       "      <th>close</th>\n",
       "      <th>adj_close</th>\n",
       "      <th>volume</th>\n",
       "      <th>symbol</th>\n",
       "    </tr>\n",
       "  </thead>\n",
       "  <tbody>\n",
       "    <tr>\n",
       "      <th>0</th>\n",
       "      <td>2000-01-03</td>\n",
       "      <td>102.150002</td>\n",
       "      <td>102.157997</td>\n",
       "      <td>102.150002</td>\n",
       "      <td>102.157997</td>\n",
       "      <td>26.713875</td>\n",
       "      <td>42640.0</td>\n",
       "      <td>WIPRO</td>\n",
       "    </tr>\n",
       "    <tr>\n",
       "      <th>1</th>\n",
       "      <td>2000-01-04</td>\n",
       "      <td>110.331001</td>\n",
       "      <td>110.331001</td>\n",
       "      <td>110.331001</td>\n",
       "      <td>110.331001</td>\n",
       "      <td>28.851078</td>\n",
       "      <td>117120.0</td>\n",
       "      <td>WIPRO</td>\n",
       "    </tr>\n",
       "  </tbody>\n",
       "</table>\n",
       "</div>"
      ],
      "text/plain": [
       "         date        open        high         low       close  adj_close  \\\n",
       "0  2000-01-03  102.150002  102.157997  102.150002  102.157997  26.713875   \n",
       "1  2000-01-04  110.331001  110.331001  110.331001  110.331001  28.851078   \n",
       "\n",
       "     volume symbol  \n",
       "0   42640.0  WIPRO  \n",
       "1  117120.0  WIPRO  "
      ]
     },
     "execution_count": 8,
     "metadata": {},
     "output_type": "execute_result"
    }
   ],
   "source": [
    "wipro_pd.head(2)"
   ]
  },
  {
   "cell_type": "markdown",
   "metadata": {},
   "source": [
    "#### Data: Nifty50 stocks historical data (scraping from NSE)"
   ]
  },
  {
   "cell_type": "code",
   "execution_count": 9,
   "metadata": {},
   "outputs": [],
   "source": [
    "# def nse_stock_historical_data(symbol, series=\"EQ\", start_date=datetime(2000, 1, 1).date(), end_date=datetime.today().date()):\n",
    "#     \"\"\"\n",
    "#     Parameters:\n",
    "#     a. symbol\n",
    "#     b. series\n",
    "#     c. start_date\n",
    "#     d. end_date\n",
    "#     \"\"\"\n",
    "    \n",
    "#     path = \"https://www.nseindia.com/api/historical/cm/equity?symbol={}&series=[%22{}%22]&from={}&to={}&csv=true\"\n",
    "\n",
    "    \n",
    "#     data = None\n",
    "    \n",
    "#     ## scrapping (one year data at a time)\n",
    "#     while(start_date<=end_date):\n",
    "#         path = data_path.format(symbol, series, start_date.strftime(\"%d-%m-%Y\"), datetime(start_date.year, 12, 31).date().strftime(\"%d-%m-%Y\"))\n",
    "#         response = request_wrapper(path).content\n",
    "#         data = pd.concat([data, pd.read_csv(io.StringIO(response.decode('utf-8')))]) if (data is not None) else pd.read_csv(io.StringIO(response.decode('utf-8')))\n",
    "        \n",
    "#         start_date = datetime(start_date.year+1, 1, 1).date()\n",
    "    \n",
    "#     ## preprocessing column names\n",
    "#     data.columns = [col.lower().strip() for col in data.columns]\n",
    "\n",
    "#     ## date\n",
    "#     data['date'] = data['date'].apply(lambda x: datetime.strptime(x, '%d-%b-%Y').date())\n",
    "#     data = data[data[\"date\"]<=end_date]\n",
    "\n",
    "#     ## sorting\n",
    "#     data.sort_values('date', inplace=True, ignore_index=True)\n",
    "        \n",
    "#     return data"
   ]
  },
  {
   "cell_type": "markdown",
   "metadata": {},
   "source": [
    "#### Downloading historical data of all companies in a index"
   ]
  },
  {
   "cell_type": "code",
   "execution_count": 33,
   "metadata": {},
   "outputs": [],
   "source": [
    "index = \"NIFTY SMALLCAP 50\"\n",
    "stocks_details_pd = nse_index_stocks_list(index)"
   ]
  },
  {
   "cell_type": "code",
   "execution_count": 40,
   "metadata": {},
   "outputs": [],
   "source": [
    "stocks_list = [i+\".NS\" for i in stocks_details_pd['SYMBOL'].values] + ['NIFTYSMLCAP50.NS']"
   ]
  },
  {
   "cell_type": "code",
   "execution_count": 43,
   "metadata": {},
   "outputs": [],
   "source": [
    "for stock_symbol in stocks_list[::-1]:\n",
    "    data = yahoo_finance_scraper(stock_symbol)\n",
    "    data.to_csv(\"yahoo_finance_nifty_smallcap50_stocks_data copy/{}.csv\".format(stock_symbol), index=False)"
   ]
  },
  {
   "cell_type": "markdown",
   "metadata": {},
   "source": [
    "#### References"
   ]
  },
  {
   "cell_type": "markdown",
   "metadata": {},
   "source": [
    "##### data sources\n",
    "- https://www.investing.com/indices/\n",
    "- https://www.niftyindices.com/reports/historical-data\n",
    "- https://in.finance.yahoo.com/ "
   ]
  },
  {
   "cell_type": "markdown",
   "metadata": {},
   "source": [
    "- https://www.nseindia.com/get-quotes/equity?symbol=M%26M"
   ]
  },
  {
   "cell_type": "code",
   "execution_count": null,
   "metadata": {},
   "outputs": [],
   "source": [
    "#no"
   ]
  }
 ],
 "metadata": {
  "kernelspec": {
   "display_name": "Python 3",
   "language": "python",
   "name": "python3"
  },
  "language_info": {
   "codemirror_mode": {
    "name": "ipython",
    "version": 3
   },
   "file_extension": ".py",
   "mimetype": "text/x-python",
   "name": "python",
   "nbconvert_exporter": "python",
   "pygments_lexer": "ipython3",
   "version": "3.6.9"
  },
  "toc": {
   "base_numbering": 1,
   "nav_menu": {},
   "number_sections": true,
   "sideBar": true,
   "skip_h1_title": true,
   "title_cell": "Table of Contents",
   "title_sidebar": "Contents",
   "toc_cell": false,
   "toc_position": {
    "height": "calc(100% - 180px)",
    "left": "10px",
    "top": "150px",
    "width": "207px"
   },
   "toc_section_display": true,
   "toc_window_display": false
  },
  "varInspector": {
   "cols": {
    "lenName": 16,
    "lenType": 16,
    "lenVar": 40
   },
   "kernels_config": {
    "python": {
     "delete_cmd_postfix": "",
     "delete_cmd_prefix": "del ",
     "library": "var_list.py",
     "varRefreshCmd": "print(var_dic_list())"
    },
    "r": {
     "delete_cmd_postfix": ") ",
     "delete_cmd_prefix": "rm(",
     "library": "var_list.r",
     "varRefreshCmd": "cat(var_dic_list()) "
    }
   },
   "types_to_exclude": [
    "module",
    "function",
    "builtin_function_or_method",
    "instance",
    "_Feature"
   ],
   "window_display": false
  }
 },
 "nbformat": 4,
 "nbformat_minor": 4
}
